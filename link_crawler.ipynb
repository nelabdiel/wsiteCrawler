{
 "cells": [
  {
   "cell_type": "code",
   "execution_count": 2,
   "metadata": {
    "collapsed": true
   },
   "outputs": [],
   "source": [
    "import re\n",
    "import requests\n",
    "from bs4 import BeautifulSoup"
   ]
  },
  {
   "cell_type": "code",
   "execution_count": 12,
   "metadata": {
    "collapsed": true
   },
   "outputs": [],
   "source": [
    "wsite = ['http://fivethirtyeight.com/']"
   ]
  },
  {
   "cell_type": "code",
   "execution_count": 13,
   "metadata": {
    "collapsed": false
   },
   "outputs": [],
   "source": [
    "c = 0\n",
    "while c < 10:\n",
    "    try:\n",
    "        r = requests.get(wsite[c])\n",
    "        soup = BeautifulSoup(r.content)\n",
    "        rows = soup.find_all('a')\n",
    "        for row in rows:\n",
    "            try:\n",
    "                m = re.search(r\"https?://(www)\\.\", row.get('href'))\n",
    "                m.group()\n",
    "                if row.get('href') not in wsite:\n",
    "                    wsite.append(row.get('href'))\n",
    "            except:\n",
    "                pass\n",
    "    except:\n",
    "        pass\n",
    "    c = c+1"
   ]
  },
  {
   "cell_type": "code",
   "execution_count": 14,
   "metadata": {
    "collapsed": false
   },
   "outputs": [
    {
     "data": {
      "text/plain": [
       "107"
      ]
     },
     "execution_count": 14,
     "metadata": {},
     "output_type": "execute_result"
    }
   ],
   "source": [
    "len(wsite)"
   ]
  },
  {
   "cell_type": "code",
   "execution_count": 16,
   "metadata": {
    "collapsed": false
   },
   "outputs": [
    {
     "name": "stdout",
     "output_type": "stream",
     "text": [
      "['http://fivethirtyeight.com/', 'https://www.facebook.com/fivethirtyeight', 'https://www.fanbridge.com/policies/terms_of_use.php', 'https://www.facebook.com/', 'https://www.facebook.com/fivethirtyeight/likes?ref=page_internal', 'https://www.facebook.com/fivethirtyeight/likes', 'https://www.facebook.com/fivethirtyeight/videos?ref=page_internal', 'https://www.facebook.com/fivethirtyeight/events?key=events&ref=page_internal', 'https://www.facebook.com/natesilver/?ref=py_c', 'https://www.facebook.com/Vox/?ref=py_c', 'https://www.facebook.com/TheAtlantic/?ref=py_c', 'https://www.facebook.com/jodyavirgan/', 'https://www.facebook.com/ChristieAschwandenOfficial/', 'https://www.facebook.com/espn30for30/', 'https://www.facebook.com/places/', 'https://www.facebook.com/places/Things-to-do-in-New-York-New-York/108424279189115/', 'https://www.facebook.com/privacy/explanation', 'https://www.facebook.com/policies?ref=pf', 'https://www.facebook.com/campaign/landing.php?placement=pf_rhc_more&campaign_id=136808916455473&extra_1=auto', 'https://www.facebook.com/help/568137493302217', 'https://www.facebook.com/help/cookies?ref_type=sitefooter', 'https://www.facebook.com/fivethirtyeight/?ref=nf', 'https://www.facebook.com/fivethirtyeight/?fref=nf', 'https://www.facebook.com/washingtonpost/', 'https://www.facebook.com/l.php?u=https%3A%2F%2Fwww.washingtonpost.com%2Fnews%2Fwonk%2Fwp%2F2016%2F06%2F16%2Fwhy-taking-photos-really-doesnt-ruin-the-moment%2F&h=WAQG_kqRL&enc=AZPsqfEc1VUtJKgpGrfvcVVTXuCKhxOnxJslhjUARUpEMBX92GP_BHNPjjcdlVXJ2NWevkcd8BqzJxrZjkN-Xd94w5wBopKR0DibO92q7HxXWJaZS6FTLu2PacdUFGjltAteFa0-yFhyOJqQP0s-d32y2PC4ymIYHKSSvoLl5ZYKLF9GiseFJbDyfosebu_YI16ykRwkrMVoAjErddPkYqWH&s=1', 'https://www.facebook.com/l.php?u=https%3A%2F%2Fwww.washingtonpost.com%2Fnews%2Fwonk%2Fwp%2F2016%2F06%2F16%2Fwhy-taking-photos-really-doesnt-ruin-the-moment%2F&h=eAQFFhoni&enc=AZOn5YkQxIJtqnSav3B8x_7g6SHl0f2XEjcId79lc5wbIv6x4-LmPRg5eSOHj9wHAacTrCnp4fHnYm41T4DiMgr6O2jI-_oEKmMfJqj3gbGJNudMA-1pfiljxbUOYZUSfYxt0xM6HwkcKQAR-f1ta-YbSyQpICy-f9sE1YWZu4PYlX4b80QisBV2IMnyM9PR-Cs1Jc2W800Ac7KqSN_UxvaP&s=1', 'https://www.facebook.com/l.php?u=https%3A%2F%2Fwww.washingtonpost.com%2Fnews%2Fwonk%2Fwp%2F2016%2F06%2F16%2Fwhy-taking-photos-really-doesnt-ruin-the-moment%2F&h=_AQFn0DxJAQFGfRyFXFQSScE8wuaVyt0FZYWcANU5cNmQpg&enc=AZPzQAPDPaJzpLLxQX6qYMoCbv1nBKFtVJh3JEP4IeSyoFeGrHPsG3r-w286anj9JaKZuVLIxVQ_LboOR-6NCp1FjDsvcYNbWXRNMfB9-I_-UNT0PlbIyFmDVf-Ojjq-ZsqC2fcJ1Y5UppB81J1SPgQkreAsCH85mPFrvtwzgTpl_Fe9EIropYhsQiHbJl6_GI35WgYuABm_BfS82x_0-HBe&s=1', 'https://www.facebook.com/l.php?u=https%3A%2F%2Fwww.washingtonpost.com%2Fnews%2Fwonk%2Fwp%2F2016%2F06%2F17%2Famericans-now-think-its-okay-to-say-what-they-really-think-about-race%2F&h=qAQF7WVxW&enc=AZNvtbKgK2RnEjU5lwY85mNigeVXFlBlLFEaqgi4rJpvRDGh9KbXzehxed6aNICTUwpzzTZ6Cqwfyx5C8EzVdGJGL1L0jXXeMkkN-KRqAJaDMcMiPargB4fDpZr1kN5TjfGhf8jqOuAA-_a5iQNWR4Cv-O1sQyvzA71s4GJSSh3fdPz0FMx0UvrB2K9L-iMllq6dvI1rvzvtScR6iApqsccV&s=1', 'https://www.facebook.com/l.php?u=https%3A%2F%2Fwww.washingtonpost.com%2Fnews%2Fwonk%2Fwp%2F2016%2F06%2F17%2Famericans-now-think-its-okay-to-say-what-they-really-think-about-race%2F&h=KAQGFRsTq&enc=AZMMwJ5J6L-Iws-bzouiLE5C-Fdeb-rntXvABvdKOY4oh52sBYgCap_WDC1yzx4CJWXLNblbJfPKy4ojf665K8vmb_biWj8m7pVTGZCCzf5petUr0L5pG3poJKI7Nib3lgcTwxqTwkT_Evv3j0tQAhTVF9VtsuirHGbtfpTaK8WS6Mdh0yMT752iJuPaaICk1cj8ZUYZY3n_-YP24v--Csel&s=1', 'https://www.facebook.com/l.php?u=https%3A%2F%2Fwww.washingtonpost.com%2Fnews%2Fwonk%2Fwp%2F2016%2F06%2F17%2Famericans-now-think-its-okay-to-say-what-they-really-think-about-race%2F&h=mAQHIzYyRAQEQ-HY-488RJc20xwjXWQq-YA7OcTjoKQJZ_Q&enc=AZMP-S6huBP6vBhxupKDiAyR12zjWW0wWbdGUT20IEaaNUL9bA4VnHHmJurHd3xfGYpswsyy0XFen4dS8hrQ8RKlMFAT1XzErgfCm-V2iuYZY0J7yleO6Vs8eWbo_SxEe7EGtMdDn0qmCqf-oP0-7dNVZDtzx1UretNL1rBXw1JWy6aa1FZSoteav7Jk8WhwOaz1IO80ZbTiMqwYZ09a-l_A&s=1', 'https://www.facebook.com/upshot/', 'https://www.facebook.com/quartznews/', 'https://www.facebook.com/l.php?u=https%3A%2F%2Fwww.washingtonpost.com%2Fnews%2Fwonk%2Fwp%2F2016%2F06%2F17%2Fevery-two-days-a-suspected-terrorist-buys-a-gun-in-the-u-s%2F&h=cAQFFQO3X&enc=AZPA7MioVWRJFSF3dRgVoHDFOilnOIDyDvYNfw97FDW6mPLyCejyqqv_0_aJHHzxxN8gEfeMrwtUAzGDDp0MQ5rv-sAld60C0oHSo3dmqMprULb8YDfi3mWryXw_dPlInNsygmVnkFNiXh2RT1AMRRchYWJPPv2SQ-DYFw06P1EnMvVO7JspZ8a3KLNiskJX2AFvvW3ImJyRdoALbsuFuyq6&s=1', 'https://www.facebook.com/l.php?u=https%3A%2F%2Fwww.washingtonpost.com%2Fnews%2Fwonk%2Fwp%2F2016%2F06%2F17%2Fevery-two-days-a-suspected-terrorist-buys-a-gun-in-the-u-s%2F&h=IAQG3c7au&enc=AZMz8M2XUFdtP_xZbrlA1lw0ac513iKnMtwff0G3lC_Y67l-4_NlR79HqgTaodqeiJlREzQ7rU2v63gbQX4rks4VDg0zlya4xhtfL9CWDPk0X_VjYPrJIfcTOouf7ZVFT_v2xVn1zDItqn4K-Z7YGjvW3eNg_ourTtpMdKMyJkHnATnmkcHNbyEWTwmebg-428ASiRi7SvSRco6sJqDVcdxg&s=1', 'https://www.facebook.com/chrisingraham', 'https://www.facebook.com/l.php?u=https%3A%2F%2Fwww.washingtonpost.com%2Fnews%2Fwonk%2Fwp%2F2016%2F06%2F17%2Fevery-two-days-a-suspected-terrorist-buys-a-gun-in-the-u-s%2F&h=MAQHSIHsJAQE8M_Z-4ZSfTacM8426rmh6xjeQ794Q8cgQIQ&enc=AZPBQyA0OeoQYMXQwzcNmTUQa6UDUzSRRMaIIW9RVSPhNNto_5robVThCd0Yq1949tIhtB_Ap_gPP2BtqtICfz1wLX1IOS5U8dGxag4q2M3NCWIKL6ogEhNCngC_l04lUWWdQKJUNJAmMUAo1Q2nPZmIkFRfHiOWaTyzUHishZOUqUFkpNT_9rEpHpu9GStBMV75odPY1G01ple0_Pp2o82C&s=1', 'https://www.facebook.com/walter.hickey', 'https://www.facebook.com/ben.casselman', 'https://www.facebook.com/nytimes/', 'https://www.facebook.com/l.php?u=https%3A%2F%2Fwww.washingtonpost.com%2Fnews%2Fwonk%2Fwp%2F2016%2F06%2F16%2Fhow-sexism-holds-back-the-economy%2F&h=1AQFgVHIb&enc=AZOwr6P9JGMKIZLSl-YuN_7wmIbxKWDBnLQ7Qcj9P8fYhyM33O4C3QNbbbm837nu8y8TXtuILjqwRuBwidHHswc8R64JozXkaC1EcWm8Eni6PzYBEPHuBxiXxt_-ZB8WqcN2QfCKNgp4MPV_J3qVjbdbEdazDpkoKWtfwQQMS8Yqg7byeZjzkGN3SG04EXz1B3El7C-bMohwBIAPxnq692ME&s=1', 'https://www.facebook.com/l.php?u=https%3A%2F%2Fwww.washingtonpost.com%2Fnews%2Fwonk%2Fwp%2F2016%2F06%2F16%2Fhow-sexism-holds-back-the-economy%2F&h=2AQHLZw_S&enc=AZOdtWpDbQXtc0EzCgFtjqysJqM90b4CkaqmE94IoVvtobqOCgzi-Vm2328rT4ctU0iDPubCZCcZDY3Dp2Yk0OEv_lwqUo69K9VvvvvLhLLgxLJAbSWGygfKk_V0Y7t80YW97e47cqbfPr--fOHYagrYUr0KqBkh3zTVhzJHJ9liLFiMoHJWkPrvOYbLsZt77stpTW1AvhlzI0zQVPqszb-I&s=1', 'https://www.facebook.com/l.php?u=https%3A%2F%2Fwww.washingtonpost.com%2Fnews%2Fwonk%2Fwp%2F2016%2F06%2F16%2Fhow-sexism-holds-back-the-economy%2F&h=wAQFsGUPwAQH4NyeLVO_1de_zEXDzPN0Lrdlxis4ihMyrHg&enc=AZNg-Go8dXTArG5sbacVQAizX07gwiLPbLEOTe891E6pyM5eW1ZXUz8p913ZOnj6rNyoDfL9nhvzOXDER6ZHL_NmLxjY5CQUFPHkyjyNjfZ9-tIpXebkDHCdf9S16-pRcxt60ePcj02aOxDgUb11L0gVP2mKYCH9nEY-C7kemt56CCh0OKHirZIuD81-PpMn8uI-GTKGjBYFg1B0ZGRUz65v&s=1', 'https://www.facebook.com/DonaldTrump/', 'https://www.facebook.com/fivethirtyeight/videos', 'https://www.fanbridge.com', 'https://www.fanbridge.com/plan/?ref=public_site_header', 'https://www.fanbridge.com/youtube/', 'https://www.fanbridge.com/blog', 'https://www.fanbridge.com/plan/', 'https://www.fanbridge.com/login.php', 'https://www.fanbridge.com/musicians/', 'https://www.fanbridge.com/comedians/', 'https://www.fanbridge.com/managers/', 'https://www.fanbridge.com/video/', 'https://www.fanbridge.com/blog/events-calendar-widget', 'https://www.fanbridge.com/blog/new-fan-questions-widget', 'https://www.fanbridge.com/blog/fanbridge-wordpress-plugin', 'http://www.fanmarketinginstitute.com/', 'https://www.fanbridge.com/tour/goals/grow_signup_forms/?ref=public_site_footer', 'https://www.fanbridge.com/tour/goals/grow_fan_incentives', 'https://www.fanbridge.com/tour/goals/grow_fan_action_page', 'https://www.fanbridge.com/tour/goals/engage_email_campaigns', 'https://www.fanbridge.com/tour/goals/engage_social_digest', 'https://www.fanbridge.com/tour/goals/engage_social_network_posts', 'https://www.fanbridge.com/tour/goals/engage_facebook_fan_page', 'https://www.fanbridge.com/tour/goals/engage_professional_email_templates', 'https://www.fanbridge.com/tour/goals/engage_fan_questions', 'https://www.fanbridge.com/tour/goals/monetize_partner_ecosystem', 'https://www.fanbridge.com/tour/goals/engage_fan_base_segmentation', 'https://www.fanbridge.com/tour/goals/monetize_fan_rank', 'https://www.fanbridge.com/tour/goals/engage_account_management', 'https://www.facebook.com/natesilver/likes?ref=page_internal', 'https://www.facebook.com/natesilver/likes', 'https://www.facebook.com/natesilver/photos_stream?ref=page_internal', 'https://www.facebook.com/fivethirtyeight/?ref=py_c', 'https://www.facebook.com/pewresearch/?ref=py_c', 'https://www.facebook.com/nprpolitics/?ref=py_c', 'https://www.facebook.com/natesilver/?ref=nf', 'https://www.facebook.com/natesilver/?fref=nf', 'https://www.facebook.com/natesilver/', 'https://www.facebook.com/fivethirtyeight/', 'https://www.facebook.com/HarryEnten/', 'https://www.facebook.com/micah.cohen.31', 'https://www.facebook.com/Vox/likes?ref=page_internal', 'https://www.facebook.com/Vox/likes', 'https://www.facebook.com/Vox/videos?ref=page_internal', 'https://www.facebook.com/CurbedNational/', 'https://www.facebook.com/allinwithchris/', 'https://www.facebook.com/verge/', 'https://www.facebook.com/Vox/posts_to_page?ref=page_internal', 'https://www.facebook.com/douglas.tynes.7', 'https://www.facebook.com/r.php?fbpage_id=223649167822693&r=111', 'https://www.facebook.com/tom.luscher', 'https://www.facebook.com/GunVictimsAction/', 'https://www.facebook.com/polygon/?ref=py_c', 'https://www.facebook.com/thefkitlife/?ref=py_c', 'https://www.facebook.com/verge/?ref=py_c', 'https://www.facebook.com/Vox/?ref=nf', 'https://www.facebook.com/Vox/?fref=nf', 'https://www.facebook.com/mattyglesias/', 'https://www.facebook.com/Vox/', 'https://www.facebook.com/RecodeDotNet/', 'https://www.facebook.com/MalcolmGladwellBooks/', 'https://www.facebook.com/RecodeDotNet/videos', 'https://www.facebook.com/RecodeDotNet/?fref=nf', 'https://www.facebook.com/pages/Pixar/107673092595794', 'https://www.facebook.com/GwenSMoore/']\n"
     ]
    }
   ],
   "source": [
    "print(wsite)"
   ]
  },
  {
   "cell_type": "code",
   "execution_count": null,
   "metadata": {
    "collapsed": true
   },
   "outputs": [],
   "source": []
  }
 ],
 "metadata": {
  "kernelspec": {
   "display_name": "Python 3",
   "language": "python",
   "name": "python3"
  },
  "language_info": {
   "codemirror_mode": {
    "name": "ipython",
    "version": 3
   },
   "file_extension": ".py",
   "mimetype": "text/x-python",
   "name": "python",
   "nbconvert_exporter": "python",
   "pygments_lexer": "ipython3",
   "version": "3.4.4"
  }
 },
 "nbformat": 4,
 "nbformat_minor": 0
}
